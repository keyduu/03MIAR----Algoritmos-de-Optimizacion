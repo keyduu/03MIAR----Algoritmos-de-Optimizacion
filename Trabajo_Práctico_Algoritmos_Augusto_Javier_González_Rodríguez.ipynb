{
  "nbformat": 4,
  "nbformat_minor": 0,
  "metadata": {
    "colab": {
      "provenance": [],
      "include_colab_link": true
    },
    "kernelspec": {
      "name": "python3",
      "display_name": "Python 3"
    }
  },
  "cells": [
    {
      "cell_type": "markdown",
      "metadata": {
        "id": "view-in-github",
        "colab_type": "text"
      },
      "source": [
        "<a href=\"https://colab.research.google.com/github/keyduu/03MIAR----Algoritmos-de-Optimizacion/blob/main/Trabajo_Pr%C3%A1ctico_Algoritmos_Augusto_Javier_Gonz%C3%A1lez_Rodr%C3%ADguez.ipynb\" target=\"_parent\"><img src=\"https://colab.research.google.com/assets/colab-badge.svg\" alt=\"Open In Colab\"/></a>"
      ]
    },
    {
      "cell_type": "markdown",
      "metadata": {
        "id": "hVbXYX-RfPWh"
      },
      "source": [
        "# Algoritmos de optimización - Trabajo Práctico<br>\n",
        "Nombre y Apellidos: Augusto Javier González Rodríguez<br>\n",
        "Url: https://github.com/keyduu/03MIAR----Algoritmos-de-Optimizacion/blob/main/Trabajo_Pr%C3%A1ctico_Algoritmos_Augusto_Javier_Gonzalez_Rodriguez.ipynb<br>\n",
        "Google Colab: https://colab.research.google.com/drive/1kpO4ObTP8-KaZMIdhBBKYsHlpDaB7k4C<br>\n",
        "Problema:\n",
        ">1. Sesiones de doblaje <br>\n",
        ">2. Organizar los horarios de partidos de una jornada de La Liga<br>\n",
        ">3. Configuración de Tribunales\n",
        "\n",
        "Descripción del problema:(copiar enunciado)\n",
        "\n",
        "Problema 1. Organizar sesiones de doblaje\n",
        "• Se precisa coordinar el doblaje de una película. Los actores del doblaje deben coincidir en las tomas en las que sus personajes aparecen juntos en las diferentes tomas. Los actores de doblaje cobran todos la misma cantidad por cada día que deben desplazarse hasta el estudio de grabación independientemente del número de tomas que se graben. No es posible grabar más de 6 tomas por día.\n",
        "\n",
        "El objetivo es planificar las sesiones por día de manera que el gasto por los\n",
        "servicios de los actores de doblaje sea el menor posible. Los datos son:\n",
        "\n",
        "Número de actores: 10 <br>\n",
        "Número de tomas : 30 <br>\n",
        "Actores/Tomas : https://bit.ly/36D8IuK <br>\n",
        "- 1 indica que el actor participa en la toma\n",
        "- 0 en caso contrario\n",
        "\n",
        "\n",
        "\n",
        "\n",
        "\n",
        "\n",
        "\n",
        "\n",
        "                                        "
      ]
    },
    {
      "cell_type": "markdown",
      "source": [
        "#Modelo\n",
        "- ¿Como represento el espacio de soluciones?\n",
        "- ¿Cual es la función objetivo?\n",
        "- ¿Como implemento las restricciones?"
      ],
      "metadata": {
        "id": "Sbo9IqQtpaHZ"
      }
    },
    {
      "cell_type": "markdown",
      "source": [
        "Las soluciones se representarán en forma de lista plana, que tendrá el orden en el que se graba cada una de las escenas, al estar representado de esta manera, y tener una cantidad de 30 escenas, y poderse realizar la grabación de 6 escenas por cada día, el doblaje tendrá una duración máxima de 5 días, por lo que dividiendo la lista en grupos de 6, los seis primeros elementos serían las escenas grabadas el primer día, los seis siguientes, el segundo día, y así sucesivamente.\n",
        "\n",
        "Para simplificar el tratamiento de los datos, se ha transformado en una tabla CSV en la que en cada fila estará una toma, y en cada columna un actor, en la tabla se marcará con 1 si el actor participa en esa escena, y un 0 en caso contrario.\n",
        "\n",
        "La función objetivo, será la suma de la cantidad de actores que realizan grabación cada día.\n",
        "$$ F=\\sum_{i=1}^{D} A_i $$\n",
        "\n",
        "La única restricción conocida es que no se pueden grabar más de 6 escenas diariamente, por lo que se incluirá un parámetro en la función de evaluación para tener en cuenta esto y poder agrupar las escenas por días.\n"
      ],
      "metadata": {
        "id": "67p_vszBposu"
      }
    },
    {
      "cell_type": "markdown",
      "source": [
        "#Análisis\n",
        "- ¿Que complejidad tiene el problema?. Orden de complejidad y Contabilizar el espacio de soluciones"
      ],
      "metadata": {
        "id": "HZz52wOppp-U"
      }
    },
    {
      "cell_type": "markdown",
      "source": [
        "El número de soluciones total es de $$ n! $$ y a cada una de las soluciones habría que aplicarle la función de valoración que tiene un número de operaciones de $$ 3n + n/k + 1 * $$ siendo n el número de escenas a grabar y k el número de actores, por lo tanto, la complejidad del problema es de $$ O(n!) $$"
      ],
      "metadata": {
        "id": "07DOdPpri_te"
      }
    },
    {
      "cell_type": "markdown",
      "source": [
        "#Diseño\n",
        "- ¿Que técnica utilizo? ¿Por qué?"
      ],
      "metadata": {
        "id": "ixEJUwH_pv7M"
      }
    },
    {
      "cell_type": "markdown",
      "source": [
        "Se ha elegido un algoritmo genético para resolver este problema debido a su alta complejidad. Los algoritmos deterministas no son prácticos en este caso, ya que requieren demasiados recursos computacionales. El algoritmo genético es una buena opción porque puede alcanzar un óptimo local de manera eficiente y, con suficientes generaciones, se puede acercar al óptimo global sin consumir demasiado tiempo de cálculo"
      ],
      "metadata": {
        "id": "FsPHrR9ilaYO"
      }
    },
    {
      "cell_type": "code",
      "source": [
        "# Importaciones de librer\n",
        "import pandas as pd\n",
        "import numpy as np\n",
        "import random\n",
        "from google.colab import drive, files"
      ],
      "metadata": {
        "id": "ZdKPjB9gp2BA"
      },
      "execution_count": 1,
      "outputs": []
    },
    {
      "cell_type": "code",
      "source": [
        "# Carga de datos\n",
        "drive.mount('/content/drive')\n",
        "files.upload()\n",
        "datos = pd.read_csv('/content/Escenas.csv')\n"
      ],
      "metadata": {
        "colab": {
          "base_uri": "https://localhost:8080/",
          "height": 91
        },
        "id": "ygTy24xvmx0d",
        "outputId": "54cc3409-73f2-43b6-dd23-c990771d8b89"
      },
      "execution_count": 2,
      "outputs": [
        {
          "output_type": "stream",
          "name": "stdout",
          "text": [
            "Drive already mounted at /content/drive; to attempt to forcibly remount, call drive.mount(\"/content/drive\", force_remount=True).\n"
          ]
        },
        {
          "output_type": "display_data",
          "data": {
            "text/plain": [
              "<IPython.core.display.HTML object>"
            ],
            "text/html": [
              "\n",
              "     <input type=\"file\" id=\"files-66a658a5-5b09-460c-a62f-8f1ba3575823\" name=\"files[]\" multiple disabled\n",
              "        style=\"border:none\" />\n",
              "     <output id=\"result-66a658a5-5b09-460c-a62f-8f1ba3575823\">\n",
              "      Upload widget is only available when the cell has been executed in the\n",
              "      current browser session. Please rerun this cell to enable.\n",
              "      </output>\n",
              "      <script>// Copyright 2017 Google LLC\n",
              "//\n",
              "// Licensed under the Apache License, Version 2.0 (the \"License\");\n",
              "// you may not use this file except in compliance with the License.\n",
              "// You may obtain a copy of the License at\n",
              "//\n",
              "//      http://www.apache.org/licenses/LICENSE-2.0\n",
              "//\n",
              "// Unless required by applicable law or agreed to in writing, software\n",
              "// distributed under the License is distributed on an \"AS IS\" BASIS,\n",
              "// WITHOUT WARRANTIES OR CONDITIONS OF ANY KIND, either express or implied.\n",
              "// See the License for the specific language governing permissions and\n",
              "// limitations under the License.\n",
              "\n",
              "/**\n",
              " * @fileoverview Helpers for google.colab Python module.\n",
              " */\n",
              "(function(scope) {\n",
              "function span(text, styleAttributes = {}) {\n",
              "  const element = document.createElement('span');\n",
              "  element.textContent = text;\n",
              "  for (const key of Object.keys(styleAttributes)) {\n",
              "    element.style[key] = styleAttributes[key];\n",
              "  }\n",
              "  return element;\n",
              "}\n",
              "\n",
              "// Max number of bytes which will be uploaded at a time.\n",
              "const MAX_PAYLOAD_SIZE = 100 * 1024;\n",
              "\n",
              "function _uploadFiles(inputId, outputId) {\n",
              "  const steps = uploadFilesStep(inputId, outputId);\n",
              "  const outputElement = document.getElementById(outputId);\n",
              "  // Cache steps on the outputElement to make it available for the next call\n",
              "  // to uploadFilesContinue from Python.\n",
              "  outputElement.steps = steps;\n",
              "\n",
              "  return _uploadFilesContinue(outputId);\n",
              "}\n",
              "\n",
              "// This is roughly an async generator (not supported in the browser yet),\n",
              "// where there are multiple asynchronous steps and the Python side is going\n",
              "// to poll for completion of each step.\n",
              "// This uses a Promise to block the python side on completion of each step,\n",
              "// then passes the result of the previous step as the input to the next step.\n",
              "function _uploadFilesContinue(outputId) {\n",
              "  const outputElement = document.getElementById(outputId);\n",
              "  const steps = outputElement.steps;\n",
              "\n",
              "  const next = steps.next(outputElement.lastPromiseValue);\n",
              "  return Promise.resolve(next.value.promise).then((value) => {\n",
              "    // Cache the last promise value to make it available to the next\n",
              "    // step of the generator.\n",
              "    outputElement.lastPromiseValue = value;\n",
              "    return next.value.response;\n",
              "  });\n",
              "}\n",
              "\n",
              "/**\n",
              " * Generator function which is called between each async step of the upload\n",
              " * process.\n",
              " * @param {string} inputId Element ID of the input file picker element.\n",
              " * @param {string} outputId Element ID of the output display.\n",
              " * @return {!Iterable<!Object>} Iterable of next steps.\n",
              " */\n",
              "function* uploadFilesStep(inputId, outputId) {\n",
              "  const inputElement = document.getElementById(inputId);\n",
              "  inputElement.disabled = false;\n",
              "\n",
              "  const outputElement = document.getElementById(outputId);\n",
              "  outputElement.innerHTML = '';\n",
              "\n",
              "  const pickedPromise = new Promise((resolve) => {\n",
              "    inputElement.addEventListener('change', (e) => {\n",
              "      resolve(e.target.files);\n",
              "    });\n",
              "  });\n",
              "\n",
              "  const cancel = document.createElement('button');\n",
              "  inputElement.parentElement.appendChild(cancel);\n",
              "  cancel.textContent = 'Cancel upload';\n",
              "  const cancelPromise = new Promise((resolve) => {\n",
              "    cancel.onclick = () => {\n",
              "      resolve(null);\n",
              "    };\n",
              "  });\n",
              "\n",
              "  // Wait for the user to pick the files.\n",
              "  const files = yield {\n",
              "    promise: Promise.race([pickedPromise, cancelPromise]),\n",
              "    response: {\n",
              "      action: 'starting',\n",
              "    }\n",
              "  };\n",
              "\n",
              "  cancel.remove();\n",
              "\n",
              "  // Disable the input element since further picks are not allowed.\n",
              "  inputElement.disabled = true;\n",
              "\n",
              "  if (!files) {\n",
              "    return {\n",
              "      response: {\n",
              "        action: 'complete',\n",
              "      }\n",
              "    };\n",
              "  }\n",
              "\n",
              "  for (const file of files) {\n",
              "    const li = document.createElement('li');\n",
              "    li.append(span(file.name, {fontWeight: 'bold'}));\n",
              "    li.append(span(\n",
              "        `(${file.type || 'n/a'}) - ${file.size} bytes, ` +\n",
              "        `last modified: ${\n",
              "            file.lastModifiedDate ? file.lastModifiedDate.toLocaleDateString() :\n",
              "                                    'n/a'} - `));\n",
              "    const percent = span('0% done');\n",
              "    li.appendChild(percent);\n",
              "\n",
              "    outputElement.appendChild(li);\n",
              "\n",
              "    const fileDataPromise = new Promise((resolve) => {\n",
              "      const reader = new FileReader();\n",
              "      reader.onload = (e) => {\n",
              "        resolve(e.target.result);\n",
              "      };\n",
              "      reader.readAsArrayBuffer(file);\n",
              "    });\n",
              "    // Wait for the data to be ready.\n",
              "    let fileData = yield {\n",
              "      promise: fileDataPromise,\n",
              "      response: {\n",
              "        action: 'continue',\n",
              "      }\n",
              "    };\n",
              "\n",
              "    // Use a chunked sending to avoid message size limits. See b/62115660.\n",
              "    let position = 0;\n",
              "    do {\n",
              "      const length = Math.min(fileData.byteLength - position, MAX_PAYLOAD_SIZE);\n",
              "      const chunk = new Uint8Array(fileData, position, length);\n",
              "      position += length;\n",
              "\n",
              "      const base64 = btoa(String.fromCharCode.apply(null, chunk));\n",
              "      yield {\n",
              "        response: {\n",
              "          action: 'append',\n",
              "          file: file.name,\n",
              "          data: base64,\n",
              "        },\n",
              "      };\n",
              "\n",
              "      let percentDone = fileData.byteLength === 0 ?\n",
              "          100 :\n",
              "          Math.round((position / fileData.byteLength) * 100);\n",
              "      percent.textContent = `${percentDone}% done`;\n",
              "\n",
              "    } while (position < fileData.byteLength);\n",
              "  }\n",
              "\n",
              "  // All done.\n",
              "  yield {\n",
              "    response: {\n",
              "      action: 'complete',\n",
              "    }\n",
              "  };\n",
              "}\n",
              "\n",
              "scope.google = scope.google || {};\n",
              "scope.google.colab = scope.google.colab || {};\n",
              "scope.google.colab._files = {\n",
              "  _uploadFiles,\n",
              "  _uploadFilesContinue,\n",
              "};\n",
              "})(self);\n",
              "</script> "
            ]
          },
          "metadata": {}
        },
        {
          "output_type": "stream",
          "name": "stdout",
          "text": [
            "Saving Escenas.csv to Escenas (5).csv\n"
          ]
        }
      ]
    },
    {
      "cell_type": "code",
      "source": [
        "# Inicializar población con tomas diarias, para simplificar y hacer más sencillo el código, se realizará una lista con los indices de las escenas\n",
        "# en el orden que se realizan, sin tener en cuenta que día se realizan.\n",
        "def inicializar_poblacion(num_tomas, tamanyo_poblacion):\n",
        "    poblacion = []\n",
        "    for _ in range(tamanyo_poblacion):\n",
        "        horario = list(range(num_tomas))\n",
        "        random.shuffle(horario)\n",
        "        poblacion.append(horario)\n",
        "    return poblacion"
      ],
      "metadata": {
        "id": "le6i2pnGm3K-"
      },
      "execution_count": 3,
      "outputs": []
    },
    {
      "cell_type": "code",
      "source": [
        "# Valoración programacion\n",
        "def valorar_programacion(programacion, datos, max_tomas_dia):\n",
        "    total_programacion = 0\n",
        "\n",
        "    programacion_por_dias = []\n",
        "    for i in range(0, len(programacion), max_tomas_dia):\n",
        "        programacion_por_dias.append(programacion[i:i + max_tomas_dia])\n",
        "\n",
        "    for dia in programacion_por_dias:\n",
        "        actores_dia_actual = np.zeros(datos.shape[1] - 1)\n",
        "        valor_dia_actual = 0\n",
        "        for toma in dia:\n",
        "            actores_toma = datos.iloc[toma, 1:].values\n",
        "            actores_dia_actual = np.clip(actores_dia_actual + actores_toma, 0, 1)\n",
        "            valor_dia_actual = np.sum(actores_dia_actual)\n",
        "        total_programacion = total_programacion + valor_dia_actual\n",
        "\n",
        "    return total_programacion"
      ],
      "metadata": {
        "id": "7wl0wxbHolfd"
      },
      "execution_count": 4,
      "outputs": []
    },
    {
      "cell_type": "code",
      "source": [
        "# Cruzar\n",
        "# Utilizaremos un algoritmo de cruce basado en la posicion (PBX), se toman índices aleatorios del padre1, y los indices no tomados del padre1,\n",
        "# se tomarán del padre2, obteniendo aquellos valores que aún no están en el hijo, en el orden en el que aparecen en el padre2, de este modo,\n",
        "# aseguramos que el hijo será una solución aceptable\n",
        "def cruzar(padre1, padre2):\n",
        "    # Crear una lista vacía para el hijo\n",
        "    hijo = [None] * len(padre1)\n",
        "\n",
        "    # Seleccionar posiciones aleatorias para copiar del primer padre\n",
        "    num_posiciones = len(padre1) // 2\n",
        "    posiciones = random.sample(range(len(padre1)), num_posiciones)\n",
        "\n",
        "    # Copiar las posiciones seleccionadas del primer padre al hijo\n",
        "    for pos in posiciones:\n",
        "        hijo[pos] = padre1[pos]\n",
        "\n",
        "    # Completar el resto del hijo con elementos del segundo padre en el orden en el que aparecen en el segundo padre\n",
        "    indice_padre2 = 0\n",
        "    for i in range(len(hijo)):\n",
        "        if hijo[i] is None:\n",
        "            while padre2[indice_padre2] in hijo:\n",
        "                indice_padre2 += 1\n",
        "            hijo[i] = padre2[indice_padre2]\n",
        "            indice_padre2 += 1\n",
        "    return hijo"
      ],
      "metadata": {
        "id": "qFy79AUOoqEd"
      },
      "execution_count": 5,
      "outputs": []
    },
    {
      "cell_type": "code",
      "source": [
        "# Mutar\n",
        "# intercambia dos indices si un valor aleatorio es mayor que la tasa de mutación\n",
        "def mutar(horario, tasa_mutacion):\n",
        "    if random.random() < tasa_mutacion:\n",
        "        indice1, indice2 = random.sample(range(len(horario)), 2)\n",
        "        horario[indice1], horario[indice2] = horario[indice2], horario[indice1]\n",
        "\n",
        "    return horario"
      ],
      "metadata": {
        "id": "LoOh4Yq9otwx"
      },
      "execution_count": 6,
      "outputs": []
    },
    {
      "cell_type": "code",
      "source": [
        "# Algoritmo genético\n",
        "def algoritmo_genetico(datos, max_tomas_dia=6, tamanyo_poblacion=50, generaciones=100, tasa_mutacion=0.1):\n",
        "    num_tomas = datos.shape[0]\n",
        "    poblacion = inicializar_poblacion(num_tomas, tamanyo_poblacion)\n",
        "\n",
        "    for generacion in range(generaciones):\n",
        "        # Ordenamos la lista de indivíduos ordenandolos de menor valor a mayor\n",
        "        poblacion = sorted(poblacion, key=lambda x: valorar_programacion(x, datos, max_tomas_dia), reverse=False)\n",
        "\n",
        "        supervivientes = poblacion[:tamanyo_poblacion // 2] # desechamos la mitad de la población con mayor valor\n",
        "        nueva_poblacion = supervivientes.copy()\n",
        "\n",
        "        while len(nueva_poblacion) < tamanyo_poblacion: # Se recupera la población hasta volver a tener la cantidad de indivíduos original\n",
        "            padre1, padre2 = random.sample(supervivientes, 2) # se eligen los padres entre los supervivientes\n",
        "            hijo = cruzar(padre1, padre2) #Cruce posicional\n",
        "            hijo = mutar(hijo, tasa_mutacion) #Mutacion\n",
        "            nueva_poblacion.append(hijo)\n",
        "\n",
        "        poblacion = nueva_poblacion\n",
        "\n",
        "    mejor_individuo = min(poblacion, key=lambda x: valorar_programacion(x, datos, max_tomas_dia)) # Se busca el coste mínimo\n",
        "\n",
        "    ##### A partir de aquí, código cosmético, para dar una respuesta legible #####\n",
        "    # Se pone en formato legible, con una lista de días, siendo los días la lista de indices de las escenas grabadas ese día\n",
        "    mejor_individuo_dias = []\n",
        "    for i in range(0, len(mejor_individuo), max_tomas_dia):\n",
        "        mejor_individuo_dias.append(mejor_individuo[i:i + max_tomas_dia])\n",
        "    # Se añade 1 a las escenas para tener el número de la escena (comienza por 1) en vez del índice de la escena (comienza en 0)\n",
        "    mejor_programacion = []\n",
        "    for dia in mejor_individuo_dias:\n",
        "      mejor_programacion.append([escena + 1 for escena in dia])\n",
        "\n",
        "    return mejor_programacion, valorar_programacion(mejor_individuo, datos, max_tomas_dia)"
      ],
      "metadata": {
        "id": "l109jP3coye6"
      },
      "execution_count": 7,
      "outputs": []
    },
    {
      "cell_type": "code",
      "source": [
        "max_tomas_dia = 6\n",
        "tamanyo_poblacion = 50\n",
        "num_generaciones = 100\n",
        "tasa_mutacion = 0.3\n",
        "mejor_programacion, valor = algoritmo_genetico(datos, max_tomas_dia, tamanyo_poblacion, num_generaciones, tasa_mutacion)\n",
        "print(\"Mejor programación: \", mejor_programacion)\n",
        "print(\"Valoración: \", valor)"
      ],
      "metadata": {
        "colab": {
          "base_uri": "https://localhost:8080/"
        },
        "id": "ZxAjZ-8bo-XG",
        "outputId": "48494fe2-32cd-45dc-994b-5787a5c6e84e"
      },
      "execution_count": 8,
      "outputs": [
        {
          "output_type": "stream",
          "name": "stdout",
          "text": [
            "Mejor programación:  [[9, 11, 20, 6, 4, 1], [22, 18, 5, 21, 12, 8], [10, 14, 17, 29, 26, 24], [30, 2, 28, 23, 19, 27], [13, 3, 25, 15, 7, 16]]\n",
            "Valoración:  29.0\n"
          ]
        }
      ]
    }
  ]
}